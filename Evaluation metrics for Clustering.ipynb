{
 "cells": [
  {
   "cell_type": "code",
   "execution_count": 1,
   "metadata": {},
   "outputs": [],
   "source": [
    "import os\n",
    "from math import factorial as f\n",
    "import numpy as np\n",
    "from random import random,shuffle\n",
    "from math import exp\n",
    "\n",
    "from scipy.spatial import distance\n",
    "np.set_printoptions(suppress=True) #Force-suppress all exponential notation\n",
    "\n",
    "from sklearn.metrics.cluster import contingency_matrix"
   ]
  },
  {
   "cell_type": "code",
   "execution_count": 4,
   "metadata": {
    "code_folding": []
   },
   "outputs": [],
   "source": [
    "def calc_eval_params(cMat):\n",
    "    \n",
    "    n_classes, n_clusters = cmat.shape\n",
    "    \n",
    "    #TP\n",
    "    TP = 0\n",
    "    for i in cMat:\n",
    "        for j in i:\n",
    "            if j >= 2:\n",
    "                TP += f(j)/(2*f(j-2))\n",
    "                \n",
    "    \n",
    "    #FP\n",
    "    i = 0\n",
    "    FP = np.zeros((1, n_clusters))\n",
    "\n",
    "    while i < n_classes - 1:\n",
    "        j = i + 1\n",
    "        while j < n_classes:\n",
    "            FP += cmat[i]*cmat[j]\n",
    "            j +=1\n",
    "\n",
    "        i += 1\n",
    "    \n",
    "    \n",
    "    #FN\n",
    "    i = 0\n",
    "    FN = np.zeros((1, n_classes))\n",
    "\n",
    "    while i < n_clusters - 1:\n",
    "        j = i + 1\n",
    "        while j < n_clusters:\n",
    "            FN += cmat[:,i]*cmat[:,j]\n",
    "            j +=1\n",
    "\n",
    "        i += 1\n",
    "        \n",
    "    return TP, FP.flatten().sum(axis=0), FN.flatten().sum(axis=0)"
   ]
  },
  {
   "cell_type": "code",
   "execution_count": 5,
   "metadata": {
    "code_folding": []
   },
   "outputs": [],
   "source": [
    "def evaluation_metrics(y_true, clusters):\n",
    "    \n",
    "    cMat = contingency_matrix(y_true, clusters)\n",
    "\n",
    "    TP, FP, FN = calc_eval_params(cMat)\n",
    "    \n",
    "    \n",
    "    #calculate precision\n",
    "    precision = TP/(TP+FP)\n",
    "    \n",
    "    #calculate recall\n",
    "    recall = TP/(TP+FN)\n",
    "    \n",
    "    #calculate f1-score\n",
    "    f1_score = 2*precision*recall/(precision + recall)\n",
    "    \n",
    "    return precision, recall, f1_score"
   ]
  }
 ],
 "metadata": {
  "kernelspec": {
   "display_name": "Python 3",
   "language": "python",
   "name": "python3"
  },
  "language_info": {
   "codemirror_mode": {
    "name": "ipython",
    "version": 3
   },
   "file_extension": ".py",
   "mimetype": "text/x-python",
   "name": "python",
   "nbconvert_exporter": "python",
   "pygments_lexer": "ipython3",
   "version": "3.8.8"
  }
 },
 "nbformat": 4,
 "nbformat_minor": 2
}
